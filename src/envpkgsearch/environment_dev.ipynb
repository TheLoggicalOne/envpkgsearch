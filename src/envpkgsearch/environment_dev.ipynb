{
 "cells": [
  {
   "cell_type": "code",
   "execution_count": 1,
   "id": "d392c88e",
   "metadata": {},
   "outputs": [],
   "source": [
    "from dataclasses import dataclass, field\n",
    "from typing import List, Dict, Any\n",
    "import time"
   ]
  },
  {
   "cell_type": "code",
   "execution_count": 2,
   "id": "2e35e5a3",
   "metadata": {},
   "outputs": [],
   "source": [
    "@dataclass\n",
    "class Environment:\n",
    "    id: str          # Unique ID, e.g., hash or cleaned path\n",
    "    creator: str        # \"system\", \"pyenv\", \"conda\", \"venv\", \"pipx\", \"unknown\"\n",
    "    path: str        # Prefix path of the environment\n",
    "    executable: str  # Path to the python executable\n",
    "    version: str     # Python version string\n",
    "    site_packages_dirs: List[str] # List of directories where packages are installed\n",
    "    user_site_dir: str | None # User site-packages directory, if applicable\n",
    "    base_prefix: str # Base prefix (used to check for venv)\n",
    "    detected_packages: Dict[str, Dict[str, str]] = field(default_factory=dict) # {package_name: {\"version\": \"x.y.z\", \"location\": \"path/to/dist-info\"}}\n",
    "    last_scan_time: float = 0.0 # Timestamp of last package scan\n",
    "\n",
    "    def __hash__(self):\n",
    "        return hash(self.id) # Make it hashable for sets/dicts\n",
    "\n",
    "    def __eq__(self, other):\n",
    "        if not isinstance(other, Environment):\n",
    "            return False\n",
    "        return self.id == other.id\n",
    "\n",
    "    def to_dict(self) -> Dict[str, Any]:\n",
    "        \"\"\"Convert Environment object to a dictionary for caching.\"\"\"\n",
    "        return {\n",
    "            \"id\": self.id,\n",
    "            \"creator\": self.creator,\n",
    "            \"path\": self.path,\n",
    "            \"executable\": self.executable,\n",
    "            \"version\": self.version,\n",
    "            \"site_packages_dirs\": self.site_packages_dirs,\n",
    "            \"user_site_dir\": self.user_site_dir,\n",
    "            \"base_prefix\": self.base_prefix,\n",
    "            \"detected_packages\": self.detected_packages,\n",
    "            \"last_scan_time\": self.last_scan_time\n",
    "        }\n",
    "\n",
    "    @staticmethod\n",
    "    def from_dict(data: Dict[str, Any]) -> 'Environment':\n",
    "        \"\"\"Create Environment object from a dictionary loaded from cache.\"\"\"\n",
    "        return Environment(\n",
    "            id=data[\"id\"],\n",
    "            creator=data[\"creator\"],\n",
    "            path=data[\"path\"],\n",
    "            executable=data[\"executable\"],\n",
    "            version=data[\"version\"],\n",
    "            site_packages_dirs=data[\"site_packages_dirs\"],\n",
    "            user_site_dir=data.get(\"user_site_dir\"), # Use .get for backward compatibility\n",
    "            base_prefix=data.get(\"base_prefix\", data[\"path\"]), # Default to path if missing\n",
    "            detected_packages=data.get(\"detected_packages\", {}),\n",
    "            last_scan_time=data.get(\"last_scan_time\", 0.0)\n",
    "        )\n",
    "    \n",
    "    @staticmethod\n",
    "    def from_bin_path(bin_path: str) -> 'Environment':\n",
    "        pass\n",
    "    "
   ]
  },
  {
   "cell_type": "code",
   "execution_count": null,
   "id": "80071b20",
   "metadata": {},
   "outputs": [],
   "source": []
  }
 ],
 "metadata": {
  "kernelspec": {
   "display_name": "py13_env_vscode",
   "language": "python",
   "name": "python3"
  },
  "language_info": {
   "codemirror_mode": {
    "name": "ipython",
    "version": 3
   },
   "file_extension": ".py",
   "mimetype": "text/x-python",
   "name": "python",
   "nbconvert_exporter": "python",
   "pygments_lexer": "ipython3",
   "version": "3.13.0"
  }
 },
 "nbformat": 4,
 "nbformat_minor": 5
}
